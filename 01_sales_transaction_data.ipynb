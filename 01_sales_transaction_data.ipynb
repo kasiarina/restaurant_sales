{
 "cells": [
  {
   "cell_type": "markdown",
   "id": "22b217dd-6529-468f-b934-46007319f6ce",
   "metadata": {},
   "source": [
    "# Sales Transactions Dataset for 'A Pizza restaurant"
   ]
  },
  {
   "cell_type": "code",
   "execution_count": null,
   "id": "0a68e383-0ca0-4fad-809c-766903bcccb2",
   "metadata": {},
   "outputs": [],
   "source": [
    "!pip install faker\n",
    "import pandas as pd\n",
    "import numpy as np\n",
    "from faker import Faker\n",
    "from random import choice, randint, uniform"
   ]
  },
  {
   "cell_type": "code",
   "execution_count": 8,
   "id": "d776a9e1-eda5-4646-beaa-a14177888f04",
   "metadata": {},
   "outputs": [],
   "source": [
    "fake = Faker()"
   ]
  },
  {
   "cell_type": "code",
   "execution_count": 12,
   "id": "553a06fa-48eb-40f7-b94b-d04cab2029ac",
   "metadata": {},
   "outputs": [],
   "source": [
    "num_days = 365  # Number of days for data rane\n",
    "daily_customers_range = (50, 200)  # Minimum and maximum number of customers per day\n",
    "\n",
    "# List of menu items with ID and prices\n",
    "menu_items = [\n",
    "    {\"Item_ID\": 1, \"Item_Name\": \"Margherita\", \"Price\": 32},\n",
    "    {\"Item_ID\": 2, \"Item_Name\": \"Diavola\", \"Price\": 35},\n",
    "    {\"Item_ID\": 3, \"Item_Name\": \"Vegana\", \"Price\": 36},\n",
    "    {\"Item_ID\": 4, \"Item_Name\": \"Amatriciana\", \"Price\": 37},\n",
    "    {\"Item_ID\": 5, \"Item_Name\": \"Carbonara\", \"Price\": 38},\n",
    "    {\"Item_ID\": 6, \"Item_Name\": \"Bolognese\", \"Price\": 39},\n",
    "    {\"Item_ID\": 7, \"Item_Name\": \"Focaccia\", \"Price\": 15},\n",
    "    {\"Item_ID\": 8, \"Item_Name\": \"Coca-Cola\", \"Price\": 10},\n",
    "    {\"Item_ID\": 9, \"Item_Name\": \"Tiramisu\", \"Price\": 18},\n",
    "    {\"Item_ID\": 10, \"Item_Name\": \"Espresso\", \"Price\": 12},\n",
    "    {\"Item_ID\": 11, \"Item_Name\": \"Water\", \"Price\": 5}\n",
    "\n",
    "]\n",
    "# Operating hours of the pizzeria (15:00 - 21:00)\n",
    "operating_hours = (15, 21) "
   ]
  },
  {
   "cell_type": "code",
   "execution_count": 14,
   "id": "737b094b-7c1f-4e9a-8949-fc7ddfa8d5d6",
   "metadata": {},
   "outputs": [],
   "source": [
    "# Random time within the operating hours\n",
    "def random_time(start_hour, end_hour):\n",
    "    hour = randint(start_hour, end_hour - 1)\n",
    "    minute = randint(0, 59)\n",
    "    second = randint(0, 59)\n",
    "    return f\"{hour:02d}:{minute:02d}:{second:02d}\""
   ]
  },
  {
   "cell_type": "markdown",
   "id": "b9b6be61-db10-485b-9030-213692526d9a",
   "metadata": {},
   "source": [
    "## Dataset Description\n",
    "\n",
    "The dataset contains the following columns:\n",
    "- **Transaction_ID**: A unique identifier for each transaction.\n",
    "- **Date**: The date of the transaction.\n",
    "- **Time**: The time of the transaction.\n",
    "- **Item_ID**: A unique identifier for the menu item.\n",
    "- **Item_Name**: The name of the menu item sold.\n",
    "- **Quantity**: The quantity of the item sold in the transaction.\n",
    "- **Price**: The total price for the items sold.\n",
    "- **Payment_Method**: The method of payment used."
   ]
  },
  {
   "cell_type": "code",
   "execution_count": 16,
   "id": "1dd35b26-2cdd-4c02-88f3-335bc72855aa",
   "metadata": {},
   "outputs": [],
   "source": [
    "data = [] \n",
    "transaction_id = 1\n",
    "\n",
    "# Loop through each day of the year to generate daily transactions\n",
    "for day in pd.date_range(\"2023-01-01\", \"2023-12-31\"):  \n",
    "    num_customers = randint(*daily_customers_range) \n",
    "    # Generate transactions for each customer\n",
    "    for _ in range(num_customers):\n",
    "        transaction_time = random_time(*operating_hours) \n",
    "        item = choice(menu_items)\n",
    "        quantity = randint(1, 3) \n",
    "        total_price = item[\"Price\"] * quantity \n",
    "        \n",
    "        # Append the transaction data to the list\n",
    "        data.append({\n",
    "            \"Transaction_ID\": transaction_id,\n",
    "            \"Date\": day.strftime(\"%Y-%m-%d\"),\n",
    "            \"Time\": transaction_time,\n",
    "            \"Item_ID\": item[\"Item_ID\"],\n",
    "            \"Item_Name\": item[\"Item_Name\"],\n",
    "            \"Quantity\": quantity,\n",
    "            \"Price\": total_price,\n",
    "            \"Payment_Method\": choice([\"Cash\", \"Credit Card\", \"Mobile Payment\"])\n",
    "        })\n",
    "\n",
    "        transaction_id += 1 # Increment transaction ID for the next transaction\n",
    "\n",
    "\n",
    "sales_data = pd.DataFrame(data)"
   ]
  },
  {
   "cell_type": "code",
   "execution_count": 18,
   "id": "1ff4ad4a-104c-4fab-bcb3-511548a0c598",
   "metadata": {},
   "outputs": [
    {
     "data": {
      "text/html": [
       "<div>\n",
       "<style scoped>\n",
       "    .dataframe tbody tr th:only-of-type {\n",
       "        vertical-align: middle;\n",
       "    }\n",
       "\n",
       "    .dataframe tbody tr th {\n",
       "        vertical-align: top;\n",
       "    }\n",
       "\n",
       "    .dataframe thead th {\n",
       "        text-align: right;\n",
       "    }\n",
       "</style>\n",
       "<table border=\"1\" class=\"dataframe\">\n",
       "  <thead>\n",
       "    <tr style=\"text-align: right;\">\n",
       "      <th></th>\n",
       "      <th>Transaction_ID</th>\n",
       "      <th>Date</th>\n",
       "      <th>Time</th>\n",
       "      <th>Item_ID</th>\n",
       "      <th>Item_Name</th>\n",
       "      <th>Quantity</th>\n",
       "      <th>Price</th>\n",
       "      <th>Payment_Method</th>\n",
       "    </tr>\n",
       "  </thead>\n",
       "  <tbody>\n",
       "    <tr>\n",
       "      <th>0</th>\n",
       "      <td>1</td>\n",
       "      <td>2023-01-01</td>\n",
       "      <td>18:28:53</td>\n",
       "      <td>1</td>\n",
       "      <td>Margherita</td>\n",
       "      <td>1</td>\n",
       "      <td>32</td>\n",
       "      <td>Mobile Payment</td>\n",
       "    </tr>\n",
       "    <tr>\n",
       "      <th>1</th>\n",
       "      <td>2</td>\n",
       "      <td>2023-01-01</td>\n",
       "      <td>17:34:20</td>\n",
       "      <td>9</td>\n",
       "      <td>Tiramisu</td>\n",
       "      <td>1</td>\n",
       "      <td>18</td>\n",
       "      <td>Credit Card</td>\n",
       "    </tr>\n",
       "    <tr>\n",
       "      <th>2</th>\n",
       "      <td>3</td>\n",
       "      <td>2023-01-01</td>\n",
       "      <td>19:48:57</td>\n",
       "      <td>8</td>\n",
       "      <td>Coca-Cola</td>\n",
       "      <td>2</td>\n",
       "      <td>20</td>\n",
       "      <td>Cash</td>\n",
       "    </tr>\n",
       "    <tr>\n",
       "      <th>3</th>\n",
       "      <td>4</td>\n",
       "      <td>2023-01-01</td>\n",
       "      <td>16:43:30</td>\n",
       "      <td>2</td>\n",
       "      <td>Diavola</td>\n",
       "      <td>3</td>\n",
       "      <td>105</td>\n",
       "      <td>Mobile Payment</td>\n",
       "    </tr>\n",
       "    <tr>\n",
       "      <th>4</th>\n",
       "      <td>5</td>\n",
       "      <td>2023-01-01</td>\n",
       "      <td>17:23:35</td>\n",
       "      <td>7</td>\n",
       "      <td>Focaccia</td>\n",
       "      <td>1</td>\n",
       "      <td>15</td>\n",
       "      <td>Credit Card</td>\n",
       "    </tr>\n",
       "  </tbody>\n",
       "</table>\n",
       "</div>"
      ],
      "text/plain": [
       "   Transaction_ID        Date      Time  Item_ID   Item_Name  Quantity  Price  \\\n",
       "0               1  2023-01-01  18:28:53        1  Margherita         1     32   \n",
       "1               2  2023-01-01  17:34:20        9    Tiramisu         1     18   \n",
       "2               3  2023-01-01  19:48:57        8   Coca-Cola         2     20   \n",
       "3               4  2023-01-01  16:43:30        2     Diavola         3    105   \n",
       "4               5  2023-01-01  17:23:35        7    Focaccia         1     15   \n",
       "\n",
       "   Payment_Method  \n",
       "0  Mobile Payment  \n",
       "1     Credit Card  \n",
       "2            Cash  \n",
       "3  Mobile Payment  \n",
       "4     Credit Card  "
      ]
     },
     "execution_count": 18,
     "metadata": {},
     "output_type": "execute_result"
    }
   ],
   "source": [
    "sales_data.to_csv(\"sales_transactions.csv\", index=False)"
   ]
  }
 ],
 "metadata": {
  "kernelspec": {
   "display_name": "Python 3 (ipykernel)",
   "language": "python",
   "name": "python3"
  },
  "language_info": {
   "codemirror_mode": {
    "name": "ipython",
    "version": 3
   },
   "file_extension": ".py",
   "mimetype": "text/x-python",
   "name": "python",
   "nbconvert_exporter": "python",
   "pygments_lexer": "ipython3",
   "version": "3.12.7"
  }
 },
 "nbformat": 4,
 "nbformat_minor": 5
}
