{
 "cells": [
  {
   "cell_type": "markdown",
   "id": "18809b19-ca7d-458a-ade1-c11ad0404b55",
   "metadata": {},
   "source": [
    "# Data Exploration"
   ]
  },
  {
   "cell_type": "code",
   "execution_count": 59,
   "id": "86ff77e2-6e00-48f8-9c98-422a5f5c6dfb",
   "metadata": {},
   "outputs": [],
   "source": [
    "import pandas as pd\n",
    "import seaborn as sns\n",
    "import matplotlib.pyplot as plt\n",
    "import datetime as datetime"
   ]
  },
  {
   "cell_type": "code",
   "execution_count": 61,
   "id": "cee0eb81-542d-4dbd-a963-88e49c936c6b",
   "metadata": {},
   "outputs": [],
   "source": [
    "#Load data\n",
    "sales_transactions = pd.read_csv('sales_transactions.csv')\n",
    "menu_data = pd.read_csv('menu_data.csv')\n",
    "inventory_ingredients = pd.read_csv('inventory_ingredients.csv')\n",
    "customer_reviews = pd.read_csv('customer_reviews.csv')"
   ]
  },
  {
   "cell_type": "code",
   "execution_count": 63,
   "id": "36e340ce-5de5-4b05-bce0-9a0e912c9bc4",
   "metadata": {},
   "outputs": [
    {
     "name": "stdout",
     "output_type": "stream",
     "text": [
      "Sales Transactions:\n",
      "   Transaction_ID        Date      Time  Item_ID   Item_Name  Quantity  Price  \\\n",
      "0               1  2023-01-01  18:28:53        1  Margherita         1     32   \n",
      "1               2  2023-01-01  17:34:20        9    Tiramisu         1     18   \n",
      "2               3  2023-01-01  19:48:57        8   Coca-Cola         2     20   \n",
      "3               4  2023-01-01  16:43:30        2     Diavola         3    105   \n",
      "4               5  2023-01-01  17:23:35        7    Focaccia         1     15   \n",
      "\n",
      "   Payment_Method  \n",
      "0  Mobile Payment  \n",
      "1     Credit Card  \n",
      "2            Cash  \n",
      "3  Mobile Payment  \n",
      "4     Credit Card   \n",
      "\n"
     ]
    }
   ],
   "source": [
    "#Displaying first few table rows\n",
    "print(\"Sales Transactions:\")\n",
    "print(sales_transactions.head(), \"\\n\")"
   ]
  },
  {
   "cell_type": "code",
   "execution_count": 98,
   "id": "bf386fa9-cc0c-4803-b782-b3eaadebb9a8",
   "metadata": {},
   "outputs": [
    {
     "name": "stdout",
     "output_type": "stream",
     "text": [
      "<class 'pandas.core.frame.DataFrame'>\n",
      "RangeIndex: 45585 entries, 0 to 45584\n",
      "Data columns (total 12 columns):\n",
      " #   Column                Non-Null Count  Dtype         \n",
      "---  ------                --------------  -----         \n",
      " 0   Transaction_ID        45585 non-null  int64         \n",
      " 1   Date                  45585 non-null  datetime64[ns]\n",
      " 2   Time                  45585 non-null  object        \n",
      " 3   Item_ID               45585 non-null  int64         \n",
      " 4   Item_Name             45585 non-null  object        \n",
      " 5   Quantity              45585 non-null  int64         \n",
      " 6   Price                 45585 non-null  int64         \n",
      " 7   Payment_Method        45585 non-null  object        \n",
      " 8   Transaction_DateTime  45585 non-null  datetime64[ns]\n",
      " 9   Hour                  45585 non-null  int32         \n",
      " 10  Quarter               45585 non-null  period[Q-DEC] \n",
      " 11  Revenue               45585 non-null  int64         \n",
      "dtypes: datetime64[ns](2), int32(1), int64(5), object(3), period[Q-DEC](1)\n",
      "memory usage: 4.0+ MB\n"
     ]
    }
   ],
   "source": [
    "sales_transactions.info()"
   ]
  },
  {
   "cell_type": "code",
   "execution_count": 116,
   "id": "94eb3da5-5146-40c9-a626-cbadd4aaeda5",
   "metadata": {},
   "outputs": [
    {
     "data": {
      "text/html": [
       "<div>\n",
       "<style scoped>\n",
       "    .dataframe tbody tr th:only-of-type {\n",
       "        vertical-align: middle;\n",
       "    }\n",
       "\n",
       "    .dataframe tbody tr th {\n",
       "        vertical-align: top;\n",
       "    }\n",
       "\n",
       "    .dataframe thead th {\n",
       "        text-align: right;\n",
       "    }\n",
       "</style>\n",
       "<table border=\"1\" class=\"dataframe\">\n",
       "  <thead>\n",
       "    <tr style=\"text-align: right;\">\n",
       "      <th></th>\n",
       "      <th>Transaction_ID</th>\n",
       "      <th>Date</th>\n",
       "      <th>Item_ID</th>\n",
       "      <th>Quantity</th>\n",
       "      <th>Price</th>\n",
       "      <th>Transaction_DateTime</th>\n",
       "      <th>Hour</th>\n",
       "      <th>Revenue</th>\n",
       "    </tr>\n",
       "  </thead>\n",
       "  <tbody>\n",
       "    <tr>\n",
       "      <th>count</th>\n",
       "      <td>45585.000000</td>\n",
       "      <td>45585</td>\n",
       "      <td>45585.000000</td>\n",
       "      <td>45585.000000</td>\n",
       "      <td>45585.000000</td>\n",
       "      <td>45585</td>\n",
       "      <td>45585.000000</td>\n",
       "      <td>45585.000000</td>\n",
       "    </tr>\n",
       "    <tr>\n",
       "      <th>mean</th>\n",
       "      <td>22793.000000</td>\n",
       "      <td>2023-06-29 14:55:05.034550784</td>\n",
       "      <td>5.996337</td>\n",
       "      <td>2.001316</td>\n",
       "      <td>50.516968</td>\n",
       "      <td>2023-06-30 08:55:39.301568512</td>\n",
       "      <td>17.509137</td>\n",
       "      <td>117.896326</td>\n",
       "    </tr>\n",
       "    <tr>\n",
       "      <th>min</th>\n",
       "      <td>1.000000</td>\n",
       "      <td>2023-01-01 00:00:00</td>\n",
       "      <td>1.000000</td>\n",
       "      <td>1.000000</td>\n",
       "      <td>5.000000</td>\n",
       "      <td>2023-01-01 15:01:46</td>\n",
       "      <td>15.000000</td>\n",
       "      <td>5.000000</td>\n",
       "    </tr>\n",
       "    <tr>\n",
       "      <th>25%</th>\n",
       "      <td>11397.000000</td>\n",
       "      <td>2023-03-29 00:00:00</td>\n",
       "      <td>3.000000</td>\n",
       "      <td>1.000000</td>\n",
       "      <td>24.000000</td>\n",
       "      <td>2023-03-29 19:06:49</td>\n",
       "      <td>16.000000</td>\n",
       "      <td>36.000000</td>\n",
       "    </tr>\n",
       "    <tr>\n",
       "      <th>50%</th>\n",
       "      <td>22793.000000</td>\n",
       "      <td>2023-07-02 00:00:00</td>\n",
       "      <td>6.000000</td>\n",
       "      <td>2.000000</td>\n",
       "      <td>37.000000</td>\n",
       "      <td>2023-07-02 16:10:57</td>\n",
       "      <td>18.000000</td>\n",
       "      <td>72.000000</td>\n",
       "    </tr>\n",
       "    <tr>\n",
       "      <th>75%</th>\n",
       "      <td>34189.000000</td>\n",
       "      <td>2023-09-28 00:00:00</td>\n",
       "      <td>9.000000</td>\n",
       "      <td>3.000000</td>\n",
       "      <td>74.000000</td>\n",
       "      <td>2023-09-28 19:01:30</td>\n",
       "      <td>19.000000</td>\n",
       "      <td>152.000000</td>\n",
       "    </tr>\n",
       "    <tr>\n",
       "      <th>max</th>\n",
       "      <td>45585.000000</td>\n",
       "      <td>2023-12-31 00:00:00</td>\n",
       "      <td>11.000000</td>\n",
       "      <td>3.000000</td>\n",
       "      <td>117.000000</td>\n",
       "      <td>2023-12-31 20:58:53</td>\n",
       "      <td>20.000000</td>\n",
       "      <td>351.000000</td>\n",
       "    </tr>\n",
       "    <tr>\n",
       "      <th>std</th>\n",
       "      <td>13159.400347</td>\n",
       "      <td>NaN</td>\n",
       "      <td>3.156099</td>\n",
       "      <td>0.818865</td>\n",
       "      <td>33.957259</td>\n",
       "      <td>NaN</td>\n",
       "      <td>1.706753</td>\n",
       "      <td>109.798045</td>\n",
       "    </tr>\n",
       "  </tbody>\n",
       "</table>\n",
       "</div>"
      ],
      "text/plain": [
       "       Transaction_ID                           Date       Item_ID  \\\n",
       "count    45585.000000                          45585  45585.000000   \n",
       "mean     22793.000000  2023-06-29 14:55:05.034550784      5.996337   \n",
       "min          1.000000            2023-01-01 00:00:00      1.000000   \n",
       "25%      11397.000000            2023-03-29 00:00:00      3.000000   \n",
       "50%      22793.000000            2023-07-02 00:00:00      6.000000   \n",
       "75%      34189.000000            2023-09-28 00:00:00      9.000000   \n",
       "max      45585.000000            2023-12-31 00:00:00     11.000000   \n",
       "std      13159.400347                            NaN      3.156099   \n",
       "\n",
       "           Quantity         Price           Transaction_DateTime  \\\n",
       "count  45585.000000  45585.000000                          45585   \n",
       "mean       2.001316     50.516968  2023-06-30 08:55:39.301568512   \n",
       "min        1.000000      5.000000            2023-01-01 15:01:46   \n",
       "25%        1.000000     24.000000            2023-03-29 19:06:49   \n",
       "50%        2.000000     37.000000            2023-07-02 16:10:57   \n",
       "75%        3.000000     74.000000            2023-09-28 19:01:30   \n",
       "max        3.000000    117.000000            2023-12-31 20:58:53   \n",
       "std        0.818865     33.957259                            NaN   \n",
       "\n",
       "               Hour       Revenue  \n",
       "count  45585.000000  45585.000000  \n",
       "mean      17.509137    117.896326  \n",
       "min       15.000000      5.000000  \n",
       "25%       16.000000     36.000000  \n",
       "50%       18.000000     72.000000  \n",
       "75%       19.000000    152.000000  \n",
       "max       20.000000    351.000000  \n",
       "std        1.706753    109.798045  "
      ]
     },
     "execution_count": 116,
     "metadata": {},
     "output_type": "execute_result"
    }
   ],
   "source": [
    "sales_transactions.describe()"
   ]
  },
  {
   "cell_type": "code",
   "execution_count": 65,
   "id": "c0c421db-a92b-414f-9d65-d78b7dcb188f",
   "metadata": {},
   "outputs": [
    {
     "name": "stdout",
     "output_type": "stream",
     "text": [
      "Menu Data:\n",
      "   Item_ID    Item_Name Category  Price  Available\n",
      "0        1   Margherita    Pizza     32       True\n",
      "1        2      Diavola    Pizza     35       True\n",
      "2        3       Vegana    Pizza     36       True\n",
      "3        4  Amatriciana    Pasta     37       True\n",
      "4        5    Carbonara    Pasta     38       True \n",
      "\n"
     ]
    }
   ],
   "source": [
    "print(\"Menu Data:\")\n",
    "print(menu_data.head(), \"\\n\")"
   ]
  },
  {
   "cell_type": "code",
   "execution_count": 118,
   "id": "553d92ab-85e4-4717-bc84-e92ea84a452d",
   "metadata": {},
   "outputs": [
    {
     "name": "stdout",
     "output_type": "stream",
     "text": [
      "<class 'pandas.core.frame.DataFrame'>\n",
      "RangeIndex: 11 entries, 0 to 10\n",
      "Data columns (total 5 columns):\n",
      " #   Column     Non-Null Count  Dtype \n",
      "---  ------     --------------  ----- \n",
      " 0   Item_ID    11 non-null     int64 \n",
      " 1   Item_Name  11 non-null     object\n",
      " 2   Category   11 non-null     object\n",
      " 3   Price      11 non-null     int64 \n",
      " 4   Available  11 non-null     bool  \n",
      "dtypes: bool(1), int64(2), object(2)\n",
      "memory usage: 495.0+ bytes\n"
     ]
    }
   ],
   "source": [
    "menu_data.info()"
   ]
  },
  {
   "cell_type": "code",
   "execution_count": 120,
   "id": "193475c0-aec8-4ab4-bc5d-2ffaf207093b",
   "metadata": {},
   "outputs": [
    {
     "data": {
      "text/html": [
       "<div>\n",
       "<style scoped>\n",
       "    .dataframe tbody tr th:only-of-type {\n",
       "        vertical-align: middle;\n",
       "    }\n",
       "\n",
       "    .dataframe tbody tr th {\n",
       "        vertical-align: top;\n",
       "    }\n",
       "\n",
       "    .dataframe thead th {\n",
       "        text-align: right;\n",
       "    }\n",
       "</style>\n",
       "<table border=\"1\" class=\"dataframe\">\n",
       "  <thead>\n",
       "    <tr style=\"text-align: right;\">\n",
       "      <th></th>\n",
       "      <th>Item_ID</th>\n",
       "      <th>Price</th>\n",
       "    </tr>\n",
       "  </thead>\n",
       "  <tbody>\n",
       "    <tr>\n",
       "      <th>count</th>\n",
       "      <td>11.000000</td>\n",
       "      <td>11.000000</td>\n",
       "    </tr>\n",
       "    <tr>\n",
       "      <th>mean</th>\n",
       "      <td>6.000000</td>\n",
       "      <td>25.181818</td>\n",
       "    </tr>\n",
       "    <tr>\n",
       "      <th>std</th>\n",
       "      <td>3.316625</td>\n",
       "      <td>13.121114</td>\n",
       "    </tr>\n",
       "    <tr>\n",
       "      <th>min</th>\n",
       "      <td>1.000000</td>\n",
       "      <td>5.000000</td>\n",
       "    </tr>\n",
       "    <tr>\n",
       "      <th>25%</th>\n",
       "      <td>3.500000</td>\n",
       "      <td>13.500000</td>\n",
       "    </tr>\n",
       "    <tr>\n",
       "      <th>50%</th>\n",
       "      <td>6.000000</td>\n",
       "      <td>32.000000</td>\n",
       "    </tr>\n",
       "    <tr>\n",
       "      <th>75%</th>\n",
       "      <td>8.500000</td>\n",
       "      <td>36.500000</td>\n",
       "    </tr>\n",
       "    <tr>\n",
       "      <th>max</th>\n",
       "      <td>11.000000</td>\n",
       "      <td>39.000000</td>\n",
       "    </tr>\n",
       "  </tbody>\n",
       "</table>\n",
       "</div>"
      ],
      "text/plain": [
       "         Item_ID      Price\n",
       "count  11.000000  11.000000\n",
       "mean    6.000000  25.181818\n",
       "std     3.316625  13.121114\n",
       "min     1.000000   5.000000\n",
       "25%     3.500000  13.500000\n",
       "50%     6.000000  32.000000\n",
       "75%     8.500000  36.500000\n",
       "max    11.000000  39.000000"
      ]
     },
     "execution_count": 120,
     "metadata": {},
     "output_type": "execute_result"
    }
   ],
   "source": [
    "menu_data.describe()"
   ]
  },
  {
   "cell_type": "code",
   "execution_count": 67,
   "id": "1cb18928-620a-44a2-8f36-a2c61b1807cd",
   "metadata": {},
   "outputs": [
    {
     "name": "stdout",
     "output_type": "stream",
     "text": [
      "Inventory Ingredients:\n",
      "   Item_ID    Ingredient  Quantity_Per_Item  Stock_Level\n",
      "0        1  Tomato Sauce                100         2000\n",
      "1        1        Cheese                150         1500\n",
      "2        1         Basil                 10          500\n",
      "3        2  Tomato Sauce                100         2000\n",
      "4        2        Cheese                150         1600 \n",
      "\n"
     ]
    }
   ],
   "source": [
    "print(\"Inventory Ingredients:\")\n",
    "print(inventory_ingredients.head(), \"\\n\")"
   ]
  },
  {
   "cell_type": "code",
   "execution_count": 122,
   "id": "fc60c01d-ec25-4ca6-a664-d0df59a4dec6",
   "metadata": {},
   "outputs": [
    {
     "name": "stdout",
     "output_type": "stream",
     "text": [
      "<class 'pandas.core.frame.DataFrame'>\n",
      "RangeIndex: 27 entries, 0 to 26\n",
      "Data columns (total 4 columns):\n",
      " #   Column             Non-Null Count  Dtype \n",
      "---  ------             --------------  ----- \n",
      " 0   Item_ID            27 non-null     int64 \n",
      " 1   Ingredient         27 non-null     object\n",
      " 2   Quantity_Per_Item  27 non-null     int64 \n",
      " 3   Stock_Level        27 non-null     int64 \n",
      "dtypes: int64(3), object(1)\n",
      "memory usage: 996.0+ bytes\n"
     ]
    }
   ],
   "source": [
    "inventory_ingredients.info()"
   ]
  },
  {
   "cell_type": "code",
   "execution_count": 126,
   "id": "4adc1a87-e369-440f-b37c-3832b0def3a6",
   "metadata": {},
   "outputs": [
    {
     "data": {
      "text/html": [
       "<div>\n",
       "<style scoped>\n",
       "    .dataframe tbody tr th:only-of-type {\n",
       "        vertical-align: middle;\n",
       "    }\n",
       "\n",
       "    .dataframe tbody tr th {\n",
       "        vertical-align: top;\n",
       "    }\n",
       "\n",
       "    .dataframe thead th {\n",
       "        text-align: right;\n",
       "    }\n",
       "</style>\n",
       "<table border=\"1\" class=\"dataframe\">\n",
       "  <thead>\n",
       "    <tr style=\"text-align: right;\">\n",
       "      <th></th>\n",
       "      <th>Item_ID</th>\n",
       "      <th>Quantity_Per_Item</th>\n",
       "      <th>Stock_Level</th>\n",
       "    </tr>\n",
       "  </thead>\n",
       "  <tbody>\n",
       "    <tr>\n",
       "      <th>count</th>\n",
       "      <td>27.000000</td>\n",
       "      <td>27.000000</td>\n",
       "      <td>27.000000</td>\n",
       "    </tr>\n",
       "    <tr>\n",
       "      <th>mean</th>\n",
       "      <td>4.962963</td>\n",
       "      <td>71.814815</td>\n",
       "      <td>909.259259</td>\n",
       "    </tr>\n",
       "    <tr>\n",
       "      <th>std</th>\n",
       "      <td>2.848501</td>\n",
       "      <td>47.345731</td>\n",
       "      <td>549.481755</td>\n",
       "    </tr>\n",
       "    <tr>\n",
       "      <th>min</th>\n",
       "      <td>1.000000</td>\n",
       "      <td>1.000000</td>\n",
       "      <td>200.000000</td>\n",
       "    </tr>\n",
       "    <tr>\n",
       "      <th>25%</th>\n",
       "      <td>3.000000</td>\n",
       "      <td>30.000000</td>\n",
       "      <td>500.000000</td>\n",
       "    </tr>\n",
       "    <tr>\n",
       "      <th>50%</th>\n",
       "      <td>5.000000</td>\n",
       "      <td>80.000000</td>\n",
       "      <td>800.000000</td>\n",
       "    </tr>\n",
       "    <tr>\n",
       "      <th>75%</th>\n",
       "      <td>7.000000</td>\n",
       "      <td>100.000000</td>\n",
       "      <td>1350.000000</td>\n",
       "    </tr>\n",
       "    <tr>\n",
       "      <th>max</th>\n",
       "      <td>11.000000</td>\n",
       "      <td>150.000000</td>\n",
       "      <td>2000.000000</td>\n",
       "    </tr>\n",
       "  </tbody>\n",
       "</table>\n",
       "</div>"
      ],
      "text/plain": [
       "         Item_ID  Quantity_Per_Item  Stock_Level\n",
       "count  27.000000          27.000000    27.000000\n",
       "mean    4.962963          71.814815   909.259259\n",
       "std     2.848501          47.345731   549.481755\n",
       "min     1.000000           1.000000   200.000000\n",
       "25%     3.000000          30.000000   500.000000\n",
       "50%     5.000000          80.000000   800.000000\n",
       "75%     7.000000         100.000000  1350.000000\n",
       "max    11.000000         150.000000  2000.000000"
      ]
     },
     "execution_count": 126,
     "metadata": {},
     "output_type": "execute_result"
    }
   ],
   "source": [
    "inventory_ingredients.describe()"
   ]
  },
  {
   "cell_type": "code",
   "execution_count": 69,
   "id": "cfff399d-9b8c-420a-8ad9-5168ed4be9d7",
   "metadata": {},
   "outputs": [
    {
     "name": "stdout",
     "output_type": "stream",
     "text": [
      "Customer Reviews:\n",
      "                      author_name  rating  \\\n",
      "0  Pedro Henrique Leitao de Souza       5   \n",
      "1     Marcella da Costa Rodrigues       5   \n",
      "2                   Daniel Kustra       5   \n",
      "3            Klaudia Nadziejewiec       5   \n",
      "4                 Monika Bielecka       5   \n",
      "\n",
      "                                                text                 time  \n",
      "0           Perfect Pizza! The true Italian style! 👌  2022-05-11 11:42:46  \n",
      "1                      The pizzas are incredible! ♥️  2023-09-10 18:46:32  \n",
      "2                                            Cudoo !  2019-11-17 14:00:35  \n",
      "3  A very atmospheric place with delicious pizza....  2024-08-05 17:25:49  \n",
      "4  What a shot at Italian flavors this Sunday! Ni...  2024-07-14 18:53:13   \n",
      "\n"
     ]
    }
   ],
   "source": [
    "print(\"Customer Reviews:\")\n",
    "print(customer_reviews.head(), \"\\n\")"
   ]
  },
  {
   "cell_type": "markdown",
   "id": "dcb0ecd0-96ea-4261-a0ae-7c2284728a7e",
   "metadata": {},
   "source": [
    "## Analyze basic statistics and identify data trends"
   ]
  },
  {
   "cell_type": "code",
   "execution_count": 72,
   "id": "bce62fee-039b-4249-954f-40d3556f4873",
   "metadata": {},
   "outputs": [
    {
     "name": "stdout",
     "output_type": "stream",
     "text": [
      "Top Selling Menu Items:\n",
      "    Item_ID  Quantity\n",
      "5         6      8550\n",
      "2         3      8419\n",
      "8         9      8397\n",
      "4         5      8328\n",
      "7         8      8268\n",
      "0         1      8267\n",
      "3         4      8249\n",
      "9        10      8245\n",
      "10       11      8239\n",
      "6         7      8164\n",
      "1         2      8104\n"
     ]
    }
   ],
   "source": [
    "# Find top selling items\n",
    "top_selling_items = sales_transactions.groupby('Item_ID')['Quantity'].sum().reset_index()\n",
    "top_selling_items = top_selling_items.sort_values(by='Quantity', ascending=False)\n",
    "print(\"Top Selling Menu Items:\")\n",
    "print(top_selling_items)"
   ]
  },
  {
   "cell_type": "code",
   "execution_count": 74,
   "id": "7ab0b868-5407-4284-9b5b-d557473f4180",
   "metadata": {},
   "outputs": [
    {
     "name": "stdout",
     "output_type": "stream",
     "text": [
      "Top Selling Menu Items with Names:\n",
      "    Item_ID  Quantity    Item_Name\n",
      "0         6      8550    Bolognese\n",
      "1         3      8419       Vegana\n",
      "2         9      8397     Tiramisu\n",
      "3         5      8328    Carbonara\n",
      "4         8      8268    Coca-Cola\n",
      "5         1      8267   Margherita\n",
      "6         4      8249  Amatriciana\n",
      "7        10      8245     Espresso\n",
      "8        11      8239        Water\n",
      "9         7      8164     Focaccia\n",
      "10        2      8104      Diavola\n"
     ]
    }
   ],
   "source": [
    "# Merge data to get item names\n",
    "top_selling_items = top_selling_items.merge(menu_data[['Item_ID', 'Item_Name']], on='Item_ID', how='left')\n",
    "print(\"Top Selling Menu Items with Names:\")\n",
    "print(top_selling_items)"
   ]
  },
  {
   "cell_type": "code",
   "execution_count": 112,
   "id": "2bdff9ee-d80e-4974-84db-e7ec2924795d",
   "metadata": {},
   "outputs": [
    {
     "name": "stdout",
     "output_type": "stream",
     "text": [
      "Busiest Hours:\n",
      "   Hour  Quantity\n",
      "3    18     15415\n",
      "5    20     15303\n",
      "4    19     15246\n",
      "1    16     15241\n",
      "2    17     15160\n",
      "0    15     14865\n"
     ]
    }
   ],
   "source": [
    "# Find the busiest hours\n",
    "busiest_hours = sales_transactions.groupby('Hour')['Quantity'].sum().reset_index()\n",
    "busiest_hours = busiest_hours.sort_values(by='Quantity', ascending=False)\n",
    "print(\"Busiest Hours:\")\n",
    "print(busiest_hours)\n"
   ]
  },
  {
   "cell_type": "code",
   "execution_count": 143,
   "id": "469a182f-c9a4-48df-9bce-5ddc7bb1602f",
   "metadata": {},
   "outputs": [
    {
     "data": {
      "image/png": "[encoded data removed]",
      "text/plain": [
       "<Figure size 1000x600 with 1 Axes>"
      ]
     },
     "metadata": {},
     "output_type": "display_data"
    }
   ],
   "source": [
    "#Create line plot to show busiest hours\n",
    "plt.figure(figsize=(10, 6))  \n",
    "sns.lineplot(data=busiest_hours, x='Hour', y='Quantity', marker=False, color='g')\n",
    "plt.title('Busiest Hours')\n",
    "plt.xlabel('Working Hours')\n",
    "plt.ylabel('Total Quantity Sold in 2023')\n",
    "plt.grid(visible=True, which='both', linestyle='--', linewidth=0.5)\n",
    "plt.xticks(range(15, 21)) \n",
    "plt.savefig('busiest_hours.png')\n",
    "plt.show()\n"
   ]
  },
  {
   "cell_type": "code",
   "execution_count": 128,
   "id": "095a06db-8c3c-474b-b821-bfaced3d37cc",
   "metadata": {},
   "outputs": [
    {
     "name": "stdout",
     "output_type": "stream",
     "text": [
      "   Payment_Method  Percentage\n",
      "0  Mobile Payment   33.581222\n",
      "1     Credit Card   33.302621\n",
      "2            Cash   33.116157\n"
     ]
    }
   ],
   "source": [
    "# Calculate the total number of transactions for each payment method\n",
    "payment_method_counts = sales_transactions['Payment_Method'].value_counts(normalize=True).reset_index()\n",
    "payment_method_counts.columns = ['Payment_Method', 'Percentage']\n",
    "\n",
    "# Convert to percentage format\n",
    "payment_method_counts['Percentage'] *= 100\n",
    "\n",
    "# Display the percentage breakdown\n",
    "print(payment_method_counts)"
   ]
  },
  {
   "cell_type": "code",
   "execution_count": 100,
   "id": "131efe5c-1a19-4f34-b877-40c3e0ecb716",
   "metadata": {},
   "outputs": [
    {
     "name": "stdout",
     "output_type": "stream",
     "text": [
      "   Quarter    Item_Name  Revenue  Percentage\n",
      "1   2023Q1    Bolognese   201591   14.586523\n",
      "9   2023Q1       Vegana   191988   13.891679\n",
      "2   2023Q1    Carbonara   185250   13.404137\n",
      "0   2023Q1  Amatriciana   173826   12.577531\n",
      "4   2023Q1      Diavola   166635   12.057211\n",
      "7   2023Q1   Margherita   161632   11.695209\n",
      "8   2023Q1     Tiramisu    89388    6.467849\n",
      "6   2023Q1     Focaccia    74640    5.400728\n",
      "5   2023Q1     Espresso    61236    4.430854\n",
      "3   2023Q1    Coca-Cola    50580    3.659818\n",
      "10  2023Q1        Water    25270    1.828462\n",
      "12  2023Q2    Bolognese   182091   14.132420\n",
      "11  2023Q2  Amatriciana   176453   13.694844\n",
      "13  2023Q2    Carbonara   176054   13.663877\n",
      "20  2023Q2       Vegana   168408   13.070457\n",
      "15  2023Q2      Diavola   160195   12.433031\n",
      "18  2023Q2   Margherita   144352   11.203426\n",
      "19  2023Q2     Tiramisu    85356    6.624637\n",
      "17  2023Q2     Focaccia    69630    5.404113\n",
      "16  2023Q2     Espresso    56124    4.355888\n",
      "14  2023Q2    Coca-Cola    46310    3.594205\n",
      "21  2023Q2        Water    23490    1.823102\n",
      "23  2023Q3    Bolognese   203658   14.629742\n",
      "22  2023Q3  Amatriciana   191549   13.759893\n",
      "24  2023Q3    Carbonara   186998   13.432973\n",
      "31  2023Q3       Vegana   184608   13.261288\n",
      "26  2023Q3      Diavola   167790   12.053169\n",
      "29  2023Q3   Margherita   158752   11.403926\n",
      "30  2023Q3     Tiramisu    90774    6.520737\n",
      "28  2023Q3     Focaccia    75465    5.421017\n",
      "27  2023Q3     Espresso    57528    4.132515\n",
      "25  2023Q3    Coca-Cola    49900    3.584559\n",
      "32  2023Q3        Water    25060    1.800181\n",
      "34  2023Q4    Bolognese   190320   14.509161\n",
      "35  2023Q4    Carbonara   189886   14.476075\n",
      "33  2023Q4  Amatriciana   170459   12.995045\n",
      "37  2023Q4      Diavola   164360   12.530084\n",
      "42  2023Q4       Vegana   162504   12.388591\n",
      "40  2023Q4   Margherita   152896   11.656119\n",
      "41  2023Q4     Tiramisu    87300    6.655369\n",
      "39  2023Q4     Focaccia    68205    5.199650\n",
      "38  2023Q4     Espresso    55668    4.243884\n",
      "36  2023Q4    Coca-Cola    47310    3.606707\n",
      "43  2023Q4        Water    22815    1.739315\n"
     ]
    }
   ],
   "source": [
    "#Calculate percentage revenue by quarter for each item\n",
    "\n",
    "# Add a Quarter column\n",
    "sales_transactions['Quarter'] = sales_transactions['Date'].dt.to_period('Q')\n",
    "\n",
    "# Calculate revenue for each transaction\n",
    "sales_transactions['Revenue'] = sales_transactions['Quantity'] * sales_transactions['Price']\n",
    "\n",
    "# Group by Quarter and Item_Name, and sum revenue\n",
    "quarterly_revenue = sales_transactions.groupby(['Quarter', 'Item_Name'])['Revenue'].sum().reset_index()\n",
    "\n",
    "# Calculate total revenue per quarter\n",
    "total_revenue_per_quarter = quarterly_revenue.groupby('Quarter')['Revenue'].transform('sum')\n",
    "\n",
    "# Add a percentage column\n",
    "quarterly_revenue['Percentage'] = (quarterly_revenue['Revenue'] / total_revenue_per_quarter) * 100\n",
    "\n",
    "# Sort values\n",
    "quarterly_revenue = quarterly_revenue.sort_values(by=['Quarter', 'Percentage'], ascending=[True, False])\n",
    "\n",
    "print(quarterly_revenue)"
   ]
  },
  {
   "cell_type": "code",
   "execution_count": 145,
   "id": "92d050d8-7723-481a-b40e-adf5c317b369",
   "metadata": {},
   "outputs": [
    {
     "data": {
      "image/png": "[encoded data removed]",
      "text/plain": [
       "<Figure size 1200x800 with 1 Axes>"
      ]
     },
     "metadata": {},
     "output_type": "display_data"
    }
   ],
   "source": [
    "#Visualize percentage of revenue by item, quarterly\n",
    "plt.figure(figsize=(12, 8))\n",
    "sns.barplot(data=quarterly_revenue, x='Quarter', y='Percentage', hue='Item_Name', palette='tab10')\n",
    "plt.title('Percentage of Revenue by Item (Quarterly)')\n",
    "plt.xlabel('Quarter')\n",
    "plt.ylabel('Revenue Percentage')\n",
    "plt.legend(title='Item Name', bbox_to_anchor=(1.05, 1), loc='upper left')\n",
    "plt.savefig('quarterly_revenue.png')\n",
    "plt.show()\n"
   ]
  },
  {
   "cell_type": "code",
   "execution_count": null,
   "id": "bdb209eb-95fc-4c7e-b0ce-972a9bd894d0",
   "metadata": {},
   "outputs": [],
   "source": []
  }
 ],
 "metadata": {
  "kernelspec": {
   "display_name": "Python 3 (ipykernel)",
   "language": "python",
   "name": "python3"
  },
  "language_info": {
   "codemirror_mode": {
    "name": "ipython",
    "version": 3
   },
   "file_extension": ".py",
   "mimetype": "text/x-python",
   "name": "python",
   "nbconvert_exporter": "python",
   "pygments_lexer": "ipython3",
   "version": "3.12.7"
  }
 },
 "nbformat": 4,
 "nbformat_minor": 5
}
