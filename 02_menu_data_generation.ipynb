{
 "cells": [
  {
   "cell_type": "markdown",
   "id": "6d80718f-1a4b-4691-be80-25ac237d3245",
   "metadata": {},
   "source": [
    "# Menu Dataset for 'A Pizza restaurant"
   ]
  },
  {
   "cell_type": "code",
   "execution_count": 1,
   "id": "bad1ea14-dee3-46f4-b38d-710f2781b402",
   "metadata": {},
   "outputs": [],
   "source": [
    "import pandas as pd\n",
    "from faker import Faker"
   ]
  },
  {
   "cell_type": "code",
   "execution_count": 3,
   "id": "0d80465c-f0ba-4f8a-99d7-7d5e5c3ce56d",
   "metadata": {},
   "outputs": [],
   "source": [
    "fake = Faker()"
   ]
  },
  {
   "cell_type": "code",
   "execution_count": 5,
   "id": "247c252c-fb86-4ad5-9c06-66e94295274a",
   "metadata": {},
   "outputs": [],
   "source": [
    "menu_items = [\n",
    "    {\"Item_ID\": 1, \"Item_Name\": \"Margherita\", \"Category\": \"Pizza\", \"Price\": 32, \"Available\": True},\n",
    "    {\"Item_ID\": 2, \"Item_Name\": \"Diavola\", \"Category\": \"Pizza\", \"Price\": 35, \"Available\": True},\n",
    "    {\"Item_ID\": 3, \"Item_Name\": \"Vegana\", \"Category\": \"Pizza\", \"Price\": 36, \"Available\": True},\n",
    "    {\"Item_ID\": 4, \"Item_Name\": \"Amatriciana\", \"Category\": \"Pasta\", \"Price\": 37, \"Available\": True},\n",
    "    {\"Item_ID\": 5, \"Item_Name\": \"Carbonara\", \"Category\": \"Pasta\", \"Price\": 38, \"Available\": True},\n",
    "    {\"Item_ID\": 6, \"Item_Name\": \"Bolognese\", \"Category\": \"Pasta\", \"Price\": 39, \"Available\": True},\n",
    "    {\"Item_ID\": 7, \"Item_Name\": \"Focaccia\", \"Category\": \"Appetizer\", \"Price\": 15, \"Available\": True},\n",
    "    {\"Item_ID\": 8, \"Item_Name\": \"Coca-Cola\", \"Category\": \"Beverage\", \"Price\": 10, \"Available\": True},\n",
    "    {\"Item_ID\": 9, \"Item_Name\": \"Tiramisu\", \"Category\": \"Dessert\", \"Price\": 18, \"Available\": True},\n",
    "    {\"Item_ID\": 10, \"Item_Name\": \"Espresso\", \"Category\": \"Beverage\", \"Price\": 12, \"Available\": True},\n",
    "    {\"Item_ID\": 11, \"Item_Name\": \"Water\", \"Category\": \"Beverage\", \"Price\": 5, \"Available\": True}\n",
    "\n",
    "]"
   ]
  },
  {
   "cell_type": "code",
   "execution_count": 7,
   "id": "68cca042-0026-4ae6-8e53-5f152f1de26a",
   "metadata": {},
   "outputs": [],
   "source": [
    "menu_data = pd.DataFrame(menu_items)"
   ]
  },
  {
   "cell_type": "code",
   "execution_count": 9,
   "id": "355b50b6-5af3-47c7-9cd9-63590f31151c",
   "metadata": {},
   "outputs": [],
   "source": [
    "menu_data.to_csv(\"menu_data.csv\", index=False)"
   ]
  },
  {
   "cell_type": "code",
   "execution_count": 11,
   "id": "f4b7cb8c-d732-4bb1-a74f-bc76d0e27281",
   "metadata": {},
   "outputs": [
    {
     "data": {
      "text/html": [
       "<div>\n",
       "<style scoped>\n",
       "    .dataframe tbody tr th:only-of-type {\n",
       "        vertical-align: middle;\n",
       "    }\n",
       "\n",
       "    .dataframe tbody tr th {\n",
       "        vertical-align: top;\n",
       "    }\n",
       "\n",
       "    .dataframe thead th {\n",
       "        text-align: right;\n",
       "    }\n",
       "</style>\n",
       "<table border=\"1\" class=\"dataframe\">\n",
       "  <thead>\n",
       "    <tr style=\"text-align: right;\">\n",
       "      <th></th>\n",
       "      <th>Item_ID</th>\n",
       "      <th>Item_Name</th>\n",
       "      <th>Category</th>\n",
       "      <th>Price</th>\n",
       "      <th>Available</th>\n",
       "    </tr>\n",
       "  </thead>\n",
       "  <tbody>\n",
       "    <tr>\n",
       "      <th>0</th>\n",
       "      <td>1</td>\n",
       "      <td>Margherita</td>\n",
       "      <td>Pizza</td>\n",
       "      <td>32</td>\n",
       "      <td>True</td>\n",
       "    </tr>\n",
       "    <tr>\n",
       "      <th>1</th>\n",
       "      <td>2</td>\n",
       "      <td>Diavola</td>\n",
       "      <td>Pizza</td>\n",
       "      <td>35</td>\n",
       "      <td>True</td>\n",
       "    </tr>\n",
       "    <tr>\n",
       "      <th>2</th>\n",
       "      <td>3</td>\n",
       "      <td>Vegana</td>\n",
       "      <td>Pizza</td>\n",
       "      <td>36</td>\n",
       "      <td>True</td>\n",
       "    </tr>\n",
       "    <tr>\n",
       "      <th>3</th>\n",
       "      <td>4</td>\n",
       "      <td>Amatriciana</td>\n",
       "      <td>Pasta</td>\n",
       "      <td>37</td>\n",
       "      <td>True</td>\n",
       "    </tr>\n",
       "    <tr>\n",
       "      <th>4</th>\n",
       "      <td>5</td>\n",
       "      <td>Carbonara</td>\n",
       "      <td>Pasta</td>\n",
       "      <td>38</td>\n",
       "      <td>True</td>\n",
       "    </tr>\n",
       "    <tr>\n",
       "      <th>5</th>\n",
       "      <td>6</td>\n",
       "      <td>Bolognese</td>\n",
       "      <td>Pasta</td>\n",
       "      <td>39</td>\n",
       "      <td>True</td>\n",
       "    </tr>\n",
       "    <tr>\n",
       "      <th>6</th>\n",
       "      <td>7</td>\n",
       "      <td>Focaccia</td>\n",
       "      <td>Appetizer</td>\n",
       "      <td>15</td>\n",
       "      <td>True</td>\n",
       "    </tr>\n",
       "    <tr>\n",
       "      <th>7</th>\n",
       "      <td>8</td>\n",
       "      <td>Coca-Cola</td>\n",
       "      <td>Beverage</td>\n",
       "      <td>10</td>\n",
       "      <td>True</td>\n",
       "    </tr>\n",
       "    <tr>\n",
       "      <th>8</th>\n",
       "      <td>9</td>\n",
       "      <td>Tiramisu</td>\n",
       "      <td>Dessert</td>\n",
       "      <td>18</td>\n",
       "      <td>True</td>\n",
       "    </tr>\n",
       "    <tr>\n",
       "      <th>9</th>\n",
       "      <td>10</td>\n",
       "      <td>Espresso</td>\n",
       "      <td>Beverage</td>\n",
       "      <td>12</td>\n",
       "      <td>True</td>\n",
       "    </tr>\n",
       "    <tr>\n",
       "      <th>10</th>\n",
       "      <td>11</td>\n",
       "      <td>Water</td>\n",
       "      <td>Beverage</td>\n",
       "      <td>5</td>\n",
       "      <td>True</td>\n",
       "    </tr>\n",
       "  </tbody>\n",
       "</table>\n",
       "</div>"
      ],
      "text/plain": [
       "    Item_ID    Item_Name   Category  Price  Available\n",
       "0         1   Margherita      Pizza     32       True\n",
       "1         2      Diavola      Pizza     35       True\n",
       "2         3       Vegana      Pizza     36       True\n",
       "3         4  Amatriciana      Pasta     37       True\n",
       "4         5    Carbonara      Pasta     38       True\n",
       "5         6    Bolognese      Pasta     39       True\n",
       "6         7     Focaccia  Appetizer     15       True\n",
       "7         8    Coca-Cola   Beverage     10       True\n",
       "8         9     Tiramisu    Dessert     18       True\n",
       "9        10     Espresso   Beverage     12       True\n",
       "10       11        Water   Beverage      5       True"
      ]
     },
     "execution_count": 11,
     "metadata": {},
     "output_type": "execute_result"
    }
   ],
   "source": [
    "menu_data"
   ]
  }
 ],
 "metadata": {
  "kernelspec": {
   "display_name": "Python 3 (ipykernel)",
   "language": "python",
   "name": "python3"
  },
  "language_info": {
   "codemirror_mode": {
    "name": "ipython",
    "version": 3
   },
   "file_extension": ".py",
   "mimetype": "text/x-python",
   "name": "python",
   "nbconvert_exporter": "python",
   "pygments_lexer": "ipython3",
   "version": "3.12.7"
  }
 },
 "nbformat": 4,
 "nbformat_minor": 5
}
