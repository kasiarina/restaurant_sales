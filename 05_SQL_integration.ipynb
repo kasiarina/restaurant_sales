{
 "cells": [
  {
   "cell_type": "markdown",
   "id": "033cca9f-e5b7-45a0-b1b9-7612ca681613",
   "metadata": {},
   "source": [
    "# Analysis with SQL"
   ]
  },
  {
   "cell_type": "code",
   "execution_count": 1,
   "id": "bf901b37-fc43-46c7-b4d0-4f70bd4af345",
   "metadata": {},
   "outputs": [],
   "source": [
    "import sqlite3\n",
    "import pandas as pd"
   ]
  },
  {
   "cell_type": "code",
   "execution_count": 3,
   "id": "9cb6680e-9040-49c1-a52e-639708785c46",
   "metadata": {},
   "outputs": [],
   "source": [
    "conn = sqlite3.connect('pizzeria.db')\n",
    "cursor = conn.cursor()"
   ]
  },
  {
   "cell_type": "code",
   "execution_count": 7,
   "id": "411418d1-ec9d-4446-b96f-92012c636a79",
   "metadata": {},
   "outputs": [],
   "source": [
    "sales_df = pd.read_csv('sales_transactions.csv')\n",
    "menu_df = pd.read_csv('menu_data.csv')\n",
    "inventory_df = pd.read_csv('inventory_ingredients.csv')\n",
    "reviews_df = pd.read_csv('customer_reviews.csv')"
   ]
  },
  {
   "cell_type": "code",
   "execution_count": 9,
   "id": "c85590a9-c032-4dce-9882-849f4c64d477",
   "metadata": {},
   "outputs": [
    {
     "data": {
      "text/plain": [
       "5"
      ]
     },
     "execution_count": 9,
     "metadata": {},
     "output_type": "execute_result"
    }
   ],
   "source": [
    "sales_df.to_sql('sales', conn, if_exists='replace', index=False)\n",
    "menu_df.to_sql('menu', conn, if_exists='replace', index=False)\n",
    "inventory_df.to_sql('inventory', conn, if_exists='replace', index=False)\n",
    "reviews_df.to_sql('reviews', conn, if_exists='replace', index=False)"
   ]
  },
  {
   "cell_type": "code",
   "execution_count": 11,
   "id": "cbc1be00-9893-43ab-a3ff-ee974753eb9f",
   "metadata": {},
   "outputs": [],
   "source": [
    "conn.commit()\n",
    "conn.close()"
   ]
  },
  {
   "cell_type": "markdown",
   "id": "4ea95b98-a498-4c92-b7d7-483b64820de7",
   "metadata": {},
   "source": [
    "### Total Sales by Item (Revenue per Menu Item)"
   ]
  },
  {
   "cell_type": "code",
   "execution_count": 27,
   "id": "50dccfac-f587-4aa0-afd4-c993164a93c0",
   "metadata": {},
   "outputs": [
    {
     "name": "stdout",
     "output_type": "stream",
     "text": [
      "      Item_Name  Total_Revenue\n",
      "0     Bolognese         777660\n",
      "1     Carbonara         738188\n",
      "2   Amatriciana         712287\n",
      "3        Vegana         707508\n",
      "4       Diavola         658980\n",
      "5    Margherita         617632\n",
      "6      Tiramisu         352818\n",
      "7      Focaccia         287940\n",
      "8      Espresso         230556\n",
      "9     Coca-Cola         194100\n",
      "10        Water          96635\n"
     ]
    }
   ],
   "source": [
    "conn = sqlite3.connect('pizzeria.db')\n",
    "query = '''\n",
    "SELECT m.Item_Name, SUM(s.Quantity * s.Price) AS Total_Revenue\n",
    "FROM sales s\n",
    "JOIN menu m ON s.Item_ID = m.Item_ID\n",
    "GROUP BY m.Item_Name\n",
    "ORDER BY Total_Revenue DESC;\n",
    "'''\n",
    "sales_by_item = pd.read_sql(query, conn)\n",
    "sales_by_item.to_csv('sales_by_item.csv', index=False)  # index=False to avoid writing row numbers\n",
    "conn.close()\n",
    "\n",
    "# Show the result\n",
    "print(sales_by_item)"
   ]
  },
  {
   "cell_type": "markdown",
   "id": "21002976-3c5f-4548-8acc-2e420ac9790d",
   "metadata": {},
   "source": [
    "### Total Monthly Sales"
   ]
  },
  {
   "cell_type": "code",
   "execution_count": 29,
   "id": "e2b2e393-b31c-48db-b5e2-2479b9c8ff0e",
   "metadata": {},
   "outputs": [
    {
     "name": "stdout",
     "output_type": "stream",
     "text": [
      "      Month  Total_Revenue\n",
      "0   2023-01         473922\n",
      "1   2023-02         469155\n",
      "2   2023-03         438959\n",
      "3   2023-04         436755\n",
      "4   2023-05         452168\n",
      "5   2023-06         399540\n",
      "6   2023-07         408647\n",
      "7   2023-08         503898\n",
      "8   2023-09         479537\n",
      "9   2023-10         447678\n",
      "10  2023-11         444101\n",
      "11  2023-12         419944\n"
     ]
    }
   ],
   "source": [
    "conn = sqlite3.connect('pizzeria.db')\n",
    "query = '''\n",
    "SELECT strftime('%Y-%m', Date) AS Month, SUM(Quantity * Price) AS Total_Revenue\n",
    "FROM sales\n",
    "GROUP BY Month\n",
    "ORDER BY Month;\n",
    "'''\n",
    "monthly_sales = pd.read_sql(query, conn)\n",
    "monthly_sales.to_csv('monthly_sales.csv', index=False)  # index=False to avoid writing row numbers\n",
    "\n",
    "conn.close()\n",
    "\n",
    "# Show the result\n",
    "print(monthly_sales)"
   ]
  },
  {
   "cell_type": "markdown",
   "id": "61138e93-db3e-463c-99fb-a0ccd70b465b",
   "metadata": {},
   "source": [
    "### Most Used Ingredients"
   ]
  },
  {
   "cell_type": "code",
   "execution_count": 31,
   "id": "6222ee23-14f6-426b-8524-2c6a7a093dc8",
   "metadata": {},
   "outputs": [
    {
     "name": "stdout",
     "output_type": "stream",
     "text": [
      "      Ingredient  Total_Usage\n",
      "0   Tomato Sauce        41589\n",
      "1          Pasta        25127\n",
      "2         Coffee        16642\n",
      "3       Pancetta        16577\n",
      "4         Cheese        16371\n",
      "5    Ground Beef         8550\n",
      "6   Vegan Cheese         8419\n",
      "7      Mushrooms         8419\n",
      "8   Bell Peppers         8419\n",
      "9     Mascarpone         8397\n",
      "10          Eggs         8328\n",
      "11     Coca-Cola         8268\n",
      "12         Basil         8267\n",
      "13         Water         8239\n",
      "14      Rosemary         8164\n",
      "15     Olive Oil         8164\n",
      "16         Flour         8164\n",
      "17        Salami         8104\n"
     ]
    }
   ],
   "source": [
    "conn = sqlite3.connect('pizzeria.db')\n",
    "query = '''\n",
    "SELECT i.Ingredient, SUM(s.Quantity) AS Total_Usage\n",
    "FROM sales s\n",
    "JOIN inventory i ON s.Item_ID = i.Item_ID\n",
    "GROUP BY i.Ingredient\n",
    "ORDER BY Total_Usage DESC;\n",
    "'''\n",
    "inventory_usage = pd.read_sql(query, conn)\n",
    "inventory_usage.to_csv('inventory_usage.csv', index=False)  # index=False to avoid writing row numbers\n",
    "\n",
    "conn.close()\n",
    "\n",
    "# Show the result\n",
    "print(inventory_usage)"
   ]
  },
  {
   "cell_type": "markdown",
   "id": "c936e54c-a2f2-4f59-85c8-efd1a6c27670",
   "metadata": {},
   "source": [
    "### Review Rating Distribution"
   ]
  },
  {
   "cell_type": "code",
   "execution_count": 25,
   "id": "8ffd7fa1-3a6b-4637-b0ba-37921717f249",
   "metadata": {},
   "outputs": [
    {
     "name": "stdout",
     "output_type": "stream",
     "text": [
      "   rating  Rating_Count\n",
      "0       5             5\n"
     ]
    }
   ],
   "source": [
    "conn = sqlite3.connect('pizzeria.db')\n",
    "query = '''\n",
    "SELECT rating, COUNT(rating) AS Rating_Count\n",
    "FROM reviews\n",
    "GROUP BY rating\n",
    "ORDER BY rating DESC;\n",
    "'''\n",
    "rating_distribution = pd.read_sql(query, conn)\n",
    "conn.close()\n",
    "\n",
    "# Show the result\n",
    "print(rating_distribution)"
   ]
  },
  {
   "cell_type": "code",
   "execution_count": null,
   "id": "72d5ca46-5080-49eb-9c95-a3bede5f4eb1",
   "metadata": {},
   "outputs": [],
   "source": []
  }
 ],
 "metadata": {
  "kernelspec": {
   "display_name": "Python 3 (ipykernel)",
   "language": "python",
   "name": "python3"
  },
  "language_info": {
   "codemirror_mode": {
    "name": "ipython",
    "version": 3
   },
   "file_extension": ".py",
   "mimetype": "text/x-python",
   "name": "python",
   "nbconvert_exporter": "python",
   "pygments_lexer": "ipython3",
   "version": "3.12.7"
  }
 },
 "nbformat": 4,
 "nbformat_minor": 5
}
